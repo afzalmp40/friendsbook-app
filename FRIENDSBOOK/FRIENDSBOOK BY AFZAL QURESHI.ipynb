{
 "cells": [
  {
   "cell_type": "markdown",
   "id": "2c39ff58-a2b8-4469-b55e-4ee1e6bd4bf6",
   "metadata": {},
   "source": [
    "# $\\color{orange}{\\text{FRIENDSBOOK}}$"
   ]
  },
  {
   "cell_type": "code",
   "execution_count": 1,
   "id": "7ee6eb6f-6f9b-4f0d-a5f3-c469b73ecfa1",
   "metadata": {
    "tags": []
   },
   "outputs": [],
   "source": [
    "from tkinter import *\n",
    "from tkinter import filedialog\n",
    "from tkinter.filedialog import askopenfile\n",
    "from PIL import Image, ImageTk\n",
    "import _pickle as pickle\n",
    "import numpy as np\n",
    "\n",
    "filename='data/userdata'\n"
   ]
  },
  {
   "cell_type": "markdown",
   "id": "5422ed61-18e4-4544-a5f8-f894f40c070c",
   "metadata": {},
   "source": [
    "# $\\color{blue}{\\text{Functions}}$"
   ]
  },
  {
   "cell_type": "markdown",
   "id": "a2182bbe-44e8-43cc-bd9e-04797229b7b8",
   "metadata": {
    "tags": []
   },
   "source": [
    "### FADE AWAY main window"
   ]
  },
  {
   "cell_type": "code",
   "execution_count": 2,
   "id": "e3621bc7-7802-4703-a230-a5457dbebaf5",
   "metadata": {},
   "outputs": [],
   "source": [
    "def fade_window():\n",
    "    alpha = window.attributes(\"-alpha\")\n",
    "    if alpha > 0:\n",
    "        alpha -= .002\n",
    "        window.attributes(\"-alpha\", alpha)\n",
    "        window.after(1, fade_window)\n",
    "    else:\n",
    "        window.destroy()"
   ]
  },
  {
   "cell_type": "markdown",
   "id": "040a86d5-deb3-41b8-9df4-0833da782931",
   "metadata": {},
   "source": [
    "### RED text fade"
   ]
  },
  {
   "cell_type": "code",
   "execution_count": 3,
   "id": "0ac9d168-988a-49c8-8fe0-30762ffe2b94",
   "metadata": {},
   "outputs": [],
   "source": [
    "def text_fade_red(x=0,y=0,start_fading_at=2.5,disappear_at=3.5,text='text here',font=\"Arial 40 bold\",):\n",
    "    \n",
    "    global fading_text\n",
    "    \n",
    "    interval=int( (disappear_at-start_fading_at)*1000/13 )\n",
    "    time=[i for i in np.arange(int( start_fading_at*1000 ), int( disappear_at*1000 ),interval) ][::-1]\n",
    "    \n",
    "    redlist=[ \"#eeee00000000\",\"#ffff00006666\",\"#dddd00001111\",\"#cccc00001111\",\"#bbbb00001111\",\"#aaaa00001111\",\"#999900000000\",\"#888800001111\",\\\n",
    "    \"#777700002222\",\"#666600003333\",\"#555500004444\",\"#444400005555\",\"#333300007777\"] # from bold to light order\n",
    "    \n",
    "    shades=redlist[::-1]\n",
    "    shade_dict={time[i]:shades[i] for i in range( len(shades) )}\n",
    "    \n",
    "    for time,shade in shade_dict.items():\n",
    "        fading_text=canvas1.create_text(x, y, text =text,fill=shade,font=font)\n",
    "        window.after(time, canvas1.delete, fading_text)"
   ]
  },
  {
   "cell_type": "markdown",
   "id": "76f5fe2f-48cd-4d0d-8a77-82245ebe0d00",
   "metadata": {
    "tags": []
   },
   "source": [
    "### Email checking"
   ]
  },
  {
   "cell_type": "code",
   "execution_count": 4,
   "id": "bc36a90b-23d9-46ee-b07b-f220e7b41f0f",
   "metadata": {},
   "outputs": [],
   "source": [
    "def email_valid(email):    \n",
    "    if len(email)<5 or not(email.count('@')==1):                   #check length, more than 1 '@''\n",
    "        return None \n",
    "    \n",
    "    username,domain_extension=email.split('@')  #extract username,domain_extension\n",
    "    if not( username[0].isalpha() ): #check username start isalpha()\n",
    "        return None\n",
    "    if not( username.replace(\"-\", \"\").replace(\".\", \"\").replace(\"_\", \"\").isalnum()  ):   # print('username problem:',username)\n",
    "        return None\n",
    "    if domain_extension.count('.')!=1:           #check for more than 1 '.'\n",
    "        return None\n",
    "    if not (domain_extension.replace('.','').isalpha() ):   #check if domain_extension isalpha()\n",
    "        return None\n",
    "    \n",
    "    domain,extension=domain_extension.split('.')        #split domain and extension\n",
    "    if len(domain)==0:     # check domain length\n",
    "        return None\n",
    "    if not( 0<len(extension)<4 ):   # check extension length\n",
    "        return None\n",
    "    \n",
    "    return True"
   ]
  },
  {
   "cell_type": "markdown",
   "id": "bd55930e-567c-4cab-abf8-7530364b8a03",
   "metadata": {},
   "source": [
    "### LOAD userdata from file "
   ]
  },
  {
   "cell_type": "code",
   "execution_count": 5,
   "id": "c2db20b6-7d0d-4da2-bb82-b813da37729e",
   "metadata": {},
   "outputs": [
    {
     "name": "stdout",
     "output_type": "stream",
     "text": [
      "{'lara': {'username': 'lara', 'fullname': 'Lara Dutta', 'password': 'qwerty', 'img': <PIL.Image.Image image mode=P size=400x400 at 0x13D7EAFA050>, 'phone': '1231231234', 'email': 'qwe@yui.mnb', 'desc': '\\nwrge erge aga eehea egrag eargae aergehgsrthrsth \\nrst hrsth rsth  eratht  ergeragaer \\nerag aergre regerregergearge '}, 'giga': {'username': 'giga', 'fullname': 'Giga Chad', 'password': 'qwerty', 'img': <PIL.Image.Image image mode=RGB size=400x400 at 0x13D734435B0>, 'phone': '1234567890', 'email': 'asd@rty.mnb', 'desc': '\\nerg ehaae t eheta h tehea h \\nha h rt jrtah aeth aerearhea ea \\nhe  '}, 'misbu': {'username': 'misbu', 'fullname': 'Misbah', 'password': '123456', 'img': None, 'phone': '1234567890', 'email': 'asd@rty.mnb', 'desc': '\\ndlfkgjdf rhdgjdh jgndjlk ngsdjlkn jlkges '}}\n"
     ]
    }
   ],
   "source": [
    "\n",
    "def load_data():\n",
    "    try:\n",
    "        #Its important to use binary mode\n",
    "        with open(filename, 'rb') as dbfile:#pickling always done in binary mode\n",
    "            db = pickle.load(dbfile)\n",
    "\n",
    "    except:\n",
    "        with open(filename, 'wb') as dbfile:\n",
    "            pickle.dump({},dbfile)\n",
    "        db={}\n",
    "\n",
    "    print(db)\n",
    "\n",
    "load_data()   # load data at the start of program\n",
    "\n"
   ]
  },
  {
   "cell_type": "markdown",
   "id": "1eafc2ea-bc5e-430d-94e5-84496d9eb86a",
   "metadata": {},
   "source": [
    "### SEARCH for a user using a part of fullname "
   ]
  },
  {
   "cell_type": "code",
   "execution_count": 6,
   "id": "79f08a9b-a3a8-4917-8fe9-0939226f4507",
   "metadata": {},
   "outputs": [],
   "source": [
    "\n",
    "def search():\n",
    "    user_to_search=search_name.get().strip().title()\n",
    "    while '  ' in user_to_search: user_to_search=user_to_search.replace('  ',' ')  #replace all multiple spaces with single space \n",
    "    \n",
    "    if len(user_to_search)<3:\n",
    "        text_fade_red(x=1000,y=650,start_fading_at=3,disappear_at=4,text='Need bigger\\nname to search.',font=\"Arial 25 \")\n",
    "        return None\n",
    "    \n",
    "    if not(user_to_search.replace(' ','').isalpha()):\n",
    "        text_fade_red(x=1000,y=640,start_fading_at=3,disappear_at=4,text='No match found',font=\"Arial 25 \")\n",
    "        return None\n",
    "    \n",
    "    #global matchlist\n",
    "    matchlist=[]\n",
    "    \n",
    "    with open(filename, 'rb') as dbfile:\n",
    "        db_search=pickle.load(dbfile)\n",
    "        \n",
    "    for userdata in db_search.values():\n",
    "        if user_to_search.lower() in userdata['fullname'].lower():\n",
    "            matchlist.append(userdata)\n",
    "            \n",
    "    if(matchlist):    \n",
    "        message_search=canvas1.create_text(1000, 640, text='Match found',fill='green',font=\"Arial 20 bold\")\n",
    "        window.after(3500, canvas1.delete, message_search)\n",
    "        search_name.set('')\n",
    "    elif not(matchlist):\n",
    "        text_fade_red(x=1000,y=640,start_fading_at=3,disappear_at=4,text='No match found',font=\"Arial 25\")\n",
    "        return None\n",
    "\n",
    "    path='search'\n",
    "    show_account(matchlist,path)\n",
    "    "
   ]
  },
  {
   "cell_type": "markdown",
   "id": "d74f4c5e-4da8-4d00-98cb-12a843bd7035",
   "metadata": {
    "tags": []
   },
   "source": [
    "### SIGNIN "
   ]
  },
  {
   "cell_type": "code",
   "execution_count": 7,
   "id": "995995d3-e71b-42f1-a3ca-f12318423ce5",
   "metadata": {},
   "outputs": [],
   "source": [
    "\n",
    "def signin():\n",
    "    username=login_username.get().strip().lower()\n",
    "    password=login_password.get()\n",
    "    \n",
    "    found={}\n",
    "    \n",
    "    with open(filename, 'rb') as dbfile:\n",
    "        db_signin=pickle.load(dbfile)\n",
    "    \n",
    "    for user,userdata in db_signin.items():\n",
    "        if username == user:\n",
    "            if userdata['password']==password:\n",
    "                fullname=userdata['fullname'].upper()\n",
    "                found=userdata\n",
    "                message_login=canvas1.create_text(1000, 380, text=f'Welcome back { fullname }!',fill='green',font=\"Arial 20 bold\")\n",
    "                window.after(6000, canvas1.delete, message_login)\n",
    "                login_username.set('')\n",
    "                login_password.set('')\n",
    "                    \n",
    "    if not(found):\n",
    "        text_fade_red(x=1000,y=380,start_fading_at=3,disappear_at=4,text='Invalid details',font=\"Arial 25\",)\n",
    "        return None\n",
    "        \n",
    "    path='signin'\n",
    "    show_account(found,path)\n"
   ]
  },
  {
   "cell_type": "markdown",
   "id": "0592d321-2f86-4df1-bb55-80a9d865af5c",
   "metadata": {
    "tags": []
   },
   "source": [
    "### Check, Clean and store a new profile"
   ]
  },
  {
   "cell_type": "code",
   "execution_count": 8,
   "id": "2cceb416-1222-4049-8ecc-202d57bef9f5",
   "metadata": {},
   "outputs": [],
   "source": [
    "\n",
    "def initialise():    # check new user data and tell various conditions\n",
    "    \n",
    "    username=regis_username.get().strip().lower()\n",
    "    password=regis_password.get()\n",
    "    password1=regis_password1.get()\n",
    "    fullname=regis_fullname.get().strip().title()\n",
    "    phone=regis_phone.get().strip()\n",
    "    email=regis_email.get().strip()\n",
    "    description=regis_desc.get(1.0, \"end-1c\")\n",
    "    \n",
    "    while '  ' in fullname: fullname=fullname.replace('  ',' ')     #replace all multiple spaces with single space in fullname\n",
    "    \n",
    "    #username check\n",
    "    if username.replace(' ','').isalpha() or username.replace(' ','').isalnum() or username=='':\n",
    "        if username=='' or ' ' in username :\n",
    "            text_fade_red(x=300,y=230,start_fading_at=5,disappear_at=5.5,text='Try a username with only alphanumeric\\n characters without spaces.',font=\"Arial 17\")\n",
    "            return None\n",
    "\n",
    "        with open(filename, 'rb') as dbfile:\n",
    "            db_search=pickle.load(dbfile)\n",
    "            \n",
    "        if username.lower() in db_search:\n",
    "            text_fade_red(x=300,y=230,start_fading_at=3,disappear_at=3.5,text='Username already exists.',font=\"Arial 20\")\n",
    "            return None\n",
    "        \n",
    "    #fullname check\n",
    "    if not fullname:\n",
    "        text_fade_red(x=300,y=230,start_fading_at=3,disappear_at=4,text='Please enter your full name.',font=\"Arial 25\")\n",
    "        return None\n",
    "    \n",
    "    if not(fullname.replace(' ','').isalpha()):\n",
    "        text_fade_red(x=300,y=230,start_fading_at=3,disappear_at=4,text='Full name must only be alphabets.',font=\"Arial 25\")\n",
    "        return None\n",
    "    \n",
    "    #passwords check\n",
    "    if len(password)==0 and len(password1)==0:\n",
    "        text_fade_red(x=300,y=230,start_fading_at=3,disappear_at=4,text='Please enter a password.',font=\"Arial 20\")\n",
    "        return None\n",
    "    \n",
    "    if len(password)<6 or len(password1)<6 :\n",
    "        if len(password)>5 or len(password1)>5:    \n",
    "            if not(password == password1) :\n",
    "                text_fade_red(x=300,y=230,start_fading_at=3,disappear_at=4,text='Passwords do not match.',font=\"Arial 20\")\n",
    "                return None \n",
    "            \n",
    "        text_fade_red(x=300,y=230,start_fading_at=3,disappear_at=4,text='\\tPassword too small. Size must be atleast 6 characters.',font=\"Arial 20\")\n",
    "        return None\n",
    "        \n",
    "    if len(password)>5 or len(password1)>5:    \n",
    "        if not(password == password1) :\n",
    "            text_fade_red(x=300,y=230,start_fading_at=3,disappear_at=4,text='Passwords do not match.',font=\"Arial 20\")\n",
    "            return None \n",
    "    \n",
    "    #phone number check\n",
    "    if not(phone.isnumeric()) or len(phone)!=10:\n",
    "        text_fade_red(x=300,y=230,start_fading_at=3,disappear_at=4,text='Invalid phone number.',font=\"Arial 20\")\n",
    "        return None \n",
    "    \n",
    "    #email check\n",
    "    if email_valid(email)!= True:\n",
    "        text_fade_red(x=300,y=230,start_fading_at=3,disappear_at=4,text='Invalid email.',font=\"Arial 20\")\n",
    "        return None\n",
    "\n",
    "    #persuade to add photo\n",
    "    global regis_image_store\n",
    "    try:\n",
    "         type(regis_image_store)\n",
    "    except:\n",
    "        message_signup=canvas1.create_text(300, 230,text = 'Would you like to add a photo?',fill='cyan',font=\"Arial 15 bold\")\n",
    "        window.after(1000, canvas1.delete, message_signup)\n",
    "        add_photo()\n",
    "        \n",
    "\n",
    "    try:\n",
    "        regis_image_store=regis_image_store.resize((400,400))\n",
    "    except:\n",
    "        regis_image_store=None\n",
    "\n",
    "\n",
    "    count=0\n",
    "    desc=''\n",
    "    for word in description.split(' '):\n",
    "        if count%7==0:\n",
    "            if word !='\\n':\n",
    "                desc+='\\n'\n",
    "        desc+=word+' '\n",
    "        count+=1\n",
    "    \n",
    "    #create dictionary with user details\n",
    "    new_user={'username':username , 'fullname':fullname, 'password': password, 'img': regis_image_store, 'phone': phone, 'email':email, 'desc': desc }\n",
    "    \n",
    "    #clear data from entry boxes\n",
    "    regis_username.set('')\n",
    "    regis_password.set('')\n",
    "    regis_password1.set('')\n",
    "    regis_fullname.set('')\n",
    "    regis_phone.set('')\n",
    "    regis_email.set('')\n",
    "    regis_desc.delete(\"1.0\",\"end\")\n",
    "    del(regis_image_store)\n",
    "    \n",
    "    # store the data if all conditions passed\n",
    "    # read and update database\n",
    "    with open(filename, 'rb') as dbfile:\n",
    "        updated_db=pickle.load(dbfile)\n",
    "    \n",
    "    updated_db[ new_user['username'] ]=new_user\n",
    "    \n",
    "    # Its important to use binary mode\n",
    "    with open(filename, 'wb') as dbfile:  #pickling always done in binary mode\n",
    "        pickle.dump(updated_db, dbfile)    # dump database into file via dbfile object\n",
    "    \n",
    "    print(updated_db)\n",
    "    \n",
    "    #account creation successful message    \n",
    "    message_signup=canvas1.create_text(300, 230,text = f'Account creation successful!\\nWelcome {fullname}',fill='green',font=\"Arial 15 bold\")\n",
    "    window.after(6000, canvas1.delete, message_signup)\n",
    "    \n",
    "    try:\n",
    "        window.after(500, canvas1.delete, disp_photo)\n",
    "    except:\n",
    "        pass\n",
    "    \n",
    "    path='signup'\n",
    "    show_account(new_user,path)\n",
    "    "
   ]
  },
  {
   "cell_type": "markdown",
   "id": "c7b4b156-7f58-4721-bab2-cf000a4a6f14",
   "metadata": {
    "tags": []
   },
   "source": [
    "## show account(s)"
   ]
  },
  {
   "cell_type": "code",
   "execution_count": 9,
   "id": "15e8deca-d16e-4e26-a393-406e79d44bfd",
   "metadata": {},
   "outputs": [],
   "source": [
    "\n",
    "def show_account(profile,path):\n",
    "    if path in ['signup' ,'signin']:\n",
    "        new_window(profile,path)\n",
    "    elif path=='search':\n",
    "        for prof in profile:\n",
    "            new_window(prof,path)\n",
    "    "
   ]
  },
  {
   "cell_type": "markdown",
   "id": "e3ecd08f-5d63-45c2-b5bc-bb4151415475",
   "metadata": {},
   "source": [
    "## adding account photo"
   ]
  },
  {
   "cell_type": "code",
   "execution_count": 10,
   "id": "77fb5a49-7bf5-4573-a1f3-f2ba7bfc165f",
   "metadata": {},
   "outputs": [],
   "source": [
    "\n",
    "def add_photo():    \n",
    "    filename_img = filedialog.askopenfilename(title=\"Select An Image\")\n",
    "\n",
    "    if filename_img=='':\n",
    "        return None\n",
    "    \n",
    "    global resized_photo\n",
    "    global disp_photo\n",
    "    global regis_image_store\n",
    "    \n",
    "    regis_image_store= Image.open(filename_img)  # this will be pickled\n",
    "    \n",
    "    #resizing and displaying image for reference\n",
    "    resized_photo= regis_image_store.resize((120,140))   \n",
    "    resized_photo= ImageTk.PhotoImage(resized_photo)\n",
    "    disp_photo=canvas1.create_image(280,480,anchor = \"nw\",image =resized_photo)\n"
   ]
  },
  {
   "cell_type": "markdown",
   "id": "12ac333d-655b-408d-909c-89bc94314b29",
   "metadata": {},
   "source": [
    "## create top window"
   ]
  },
  {
   "cell_type": "code",
   "execution_count": 11,
   "id": "d40fd66e-c2a3-499e-b177-f31e0ab8f765",
   "metadata": {},
   "outputs": [],
   "source": [
    "\n",
    "def new_window(profile,path):\n",
    "    \n",
    "    global top\n",
    "    top=Toplevel()\n",
    "    top.geometry('900x800')\n",
    "    top.title(profile['fullname']) \n",
    "    top.attributes('-alpha',0.95)\n",
    "    \n",
    "    global canvas_top\n",
    "    #global canvas_top\n",
    "    canvas_top = Canvas( top, width = 900, height = 800)   # Create Canvas\n",
    "    canvas_top.pack(fill = \"both\", expand = True)\n",
    "    canvas_top.create_image( 0,0,image = bg, anchor = \"nw\")   # Display image\n",
    "    canvas_top.create_rectangle(50,50,450,450,fill='light grey')\n",
    "\n",
    "    global show_photo\n",
    "    global show_disp_photo\n",
    "    \n",
    "    #profile photo\n",
    "    image= profile['img']  \n",
    "    if image==None:\n",
    "        pass\n",
    "    else:\n",
    "        show_photo= ImageTk.PhotoImage(image)\n",
    "        show_disp_photo=canvas_top.create_image(50,50,anchor = \"nw\",image =show_photo)\n",
    "\n",
    "    global user\n",
    "    user=profile['username']\n",
    "    full=profile['fullname']\n",
    "    phone=profile['phone']\n",
    "    email=profile['email']\n",
    "    desc=profile['desc']\n",
    "    \n",
    "    #display basic info\n",
    "    canvas_top.create_text(400,500, text=full,fill=\"cyan\",font=\"Arial 30 bold\")\n",
    "    canvas_top.create_text(400,540, text='Contact:'+phone,fill=\"cyan\",font=\"Arial 25 bold\")\n",
    "    canvas_top.create_text(400,580, text='Email:'+email,fill=\"cyan\",font=\"Arial 25 bold\")\n",
    "    canvas_top.create_text(400,690, text=f'About:{desc}',fill=\"light yellow\",font=\"Arial 17 bold\")\n",
    "    \n",
    "    if path =='search':\n",
    "        Button(top, text='Exit',font=\"Arial 17 bold\", width=6, command=fade_top_window).place(x=660,y=40,height=40, width=100)\n",
    "        return None\n",
    "    if path =='signin':\n",
    "        message=canvas_top.create_text(350, 20, text=f'Welcome back { full }!',fill='green',font=\"Arial 13 bold\")\n",
    "        top.after(6000, canvas_top.delete, message)\n",
    "    if path =='signup':\n",
    "        message=canvas_top.create_text(400, 40, text=f'Welcome to Friendsbook, { full }!',fill='green',font=\"Arial 13 bold\")\n",
    "        top.after(6000, canvas_top.delete, message)\n",
    "    \n",
    "    Button(top, text='Logout',font=\"Arial 17 bold\", width=6, command=fade_top_window).place(x=660,y=40,height=40, width=100)\n",
    "    Button(top, text='Update\\nphoto',font=\"Arial 17 bold\",fg='cyan', width=6, command=update_photo).place(x=550,y=130,height=70, width=150)\n",
    "    Button(top, text='Delete\\nProfile',font=\"Arial 20 bold\",fg='red', width=6, command=delete_profile).place(x=550,y=250,height=70, width=150)\n",
    "    \n",
    "    #print user info for signin or signup\n",
    "    canvas_top.create_text(700,20, text='Signed in as: '+user,fill=\"yellow\",font=\"Arial 15 italic\")\n",
    "    "
   ]
  },
  {
   "cell_type": "markdown",
   "id": "12eb8329-49e8-46c0-b609-8acfdc1b282d",
   "metadata": {
    "tags": []
   },
   "source": [
    "### FADE AWAY top window"
   ]
  },
  {
   "cell_type": "code",
   "execution_count": 12,
   "id": "fc8fe642-e79d-4288-975c-55d0434d790b",
   "metadata": {},
   "outputs": [],
   "source": [
    "\n",
    "def fade_top_window():\n",
    "    alpha = top.attributes(\"-alpha\")\n",
    "    if alpha > 0:\n",
    "        alpha -= .002\n",
    "        top.attributes(\"-alpha\", alpha)\n",
    "        top.after(1, fade_top_window)\n",
    "    else:\n",
    "        top.destroy()\n",
    "    "
   ]
  },
  {
   "cell_type": "markdown",
   "id": "94ac5ae3-303c-4f53-8106-9aa9f8dca232",
   "metadata": {},
   "source": [
    "## delete profile"
   ]
  },
  {
   "cell_type": "code",
   "execution_count": 13,
   "id": "424e310a-7fe1-4ab4-8f92-39f4924c7196",
   "metadata": {},
   "outputs": [],
   "source": [
    "\n",
    "def delete_profile():\n",
    "    with open(filename,'rb') as dbfile:\n",
    "        db=pickle.load(dbfile)\n",
    "    if user in db:\n",
    "        del(db[user])\n",
    "        \n",
    "    with open(filename,'wb') as dbfile:\n",
    "        pickle.dump(db,dbfile)\n",
    "        \n",
    "    text_fade_red(x=1050,y=750,start_fading_at=3,disappear_at=4,text='Account deleted!',font=\"Arial 30\")\n",
    "        \n",
    "    fade_top_window()\n",
    "    "
   ]
  },
  {
   "cell_type": "markdown",
   "id": "6239d45c-1434-4aeb-ae74-7afa82aa0e5c",
   "metadata": {},
   "source": [
    "## update account photo"
   ]
  },
  {
   "cell_type": "code",
   "execution_count": 14,
   "id": "f772bfcd-be48-47f5-80fb-7a30fd5d2cb3",
   "metadata": {},
   "outputs": [],
   "source": [
    "\n",
    "def update_photo():    \n",
    "    \n",
    "    global regis_image_1    # required to use in storing userdata\n",
    "    regis_image_1=None\n",
    "    \n",
    "    filename1 = filedialog.askopenfilename(title=\"Select An Image\")\n",
    "    if filename1=='':\n",
    "        return None\n",
    "    \n",
    "    regis_image_1= Image.open(filename1)    # this object will be pickled\n",
    "        \n",
    "    global resized_photo_1\n",
    "    global disp_photo_1\n",
    "\n",
    "    regis_image_2=regis_image_1.resize((400,400))\n",
    "    resized_photo_1= ImageTk.PhotoImage(regis_image_2)\n",
    "    disp_photo_1=canvas_top.create_image(50,50,anchor = \"nw\",image =resized_photo_1)\n",
    "\n",
    "    with open(filename, 'rb') as dbfile:\n",
    "        updated_db=pickle.load(dbfile)\n",
    "\n",
    "    if user in updated_db:\n",
    "        updated_db[user]['img']=regis_image_2\n",
    "\n",
    "    # Its important to use binary mode\n",
    "    with open(filename, 'wb') as dbfile:  #pickling always done in binary mode\n",
    "        pickle.dump(updated_db, dbfile)    # dump database into file via dbfile object\n",
    "            \n",
    "            "
   ]
  },
  {
   "cell_type": "markdown",
   "id": "7bed17d6-1642-4c11-b16f-ac1fea19acfe",
   "metadata": {},
   "source": [
    "# $\\color{red}{\\text{MAIN }}$"
   ]
  },
  {
   "cell_type": "code",
   "execution_count": 15,
   "id": "10123ded-b969-40e1-be50-7e6cee2ede54",
   "metadata": {},
   "outputs": [
    {
     "data": {
      "text/plain": [
       "''"
      ]
     },
     "execution_count": 15,
     "metadata": {},
     "output_type": "execute_result"
    }
   ],
   "source": [
    "\n",
    "# settings of window\n",
    "window=Tk()\n",
    "window.geometry('1350x850') #in pixel\n",
    "window.title('FRIENDS BOOK') #give title\n",
    "window.resizable(0, 0)  # make window non resizeable\n",
    "window.attributes('-alpha',0.95)\n"
   ]
  },
  {
   "cell_type": "code",
   "execution_count": 16,
   "id": "186e04fb-2b98-41bd-a2e5-707399ee6a73",
   "metadata": {},
   "outputs": [
    {
     "data": {
      "text/plain": [
       "1"
      ]
     },
     "execution_count": 16,
     "metadata": {},
     "output_type": "execute_result"
    }
   ],
   "source": [
    "\n",
    "#setting background image\n",
    "bg = PhotoImage(file = \"background.png\")       #store image as PhotoImage object\n",
    "canvas1 = Canvas( window, width = 1350, height = 850)   # Create Canvas\n",
    "canvas1.pack(fill = \"both\", expand = True)\n",
    "canvas1.create_image( 0,0,image = bg, anchor = \"nw\")   # Display image\n"
   ]
  },
  {
   "cell_type": "markdown",
   "id": "2b4a3349-248b-46e5-bf36-a79def9a6b02",
   "metadata": {},
   "source": [
    "## Title and Logo"
   ]
  },
  {
   "cell_type": "code",
   "execution_count": 17,
   "id": "c0d53b7f-cd4c-4484-9d01-2e55552ca7a8",
   "metadata": {},
   "outputs": [],
   "source": [
    "\n",
    "#create text\n",
    "canvas1.create_text(640, 60, text = \"FRIENDS BOOK\",fill=\"yellow\",font=\"Arial 50 bold\")\n",
    "canvas1.create_text(630, 100, text = \"Connecting Humans\",fill=\"yellow\",font=\"Arial 20 italic\")\n",
    "\n",
    "#logo\n",
    "img1=PhotoImage(file = \"like.png\")\n",
    "canvas1.create_image(280,40, image =img1, anchor = \"nw\")\n",
    "\n",
    "#exit button\n",
    "exit_button = Button(text=\"EXIT\",font=\"Arial 20 bold\", width=6, command=fade_window).place(x=1250,y=20,height=30, width=70)\n"
   ]
  },
  {
   "cell_type": "markdown",
   "id": "7951ec78-c363-4165-98e2-8e7ba85c9f67",
   "metadata": {},
   "source": [
    "## SIGNIN "
   ]
  },
  {
   "cell_type": "code",
   "execution_count": 18,
   "id": "2e281df6-296c-4c41-8679-5f62df60b000",
   "metadata": {},
   "outputs": [],
   "source": [
    "\n",
    "#text\n",
    "canvas1.create_text(900,200,text = '\\tSign In',fill='orange',font=\"Arial 35 bold\")\n",
    "canvas1.create_text(885,250,text = 'Username:',fill='white',font=\"Arial 22\")\n",
    "canvas1.create_text(885,290,text = 'Password:',fill='white',font=\"Arial 22\")\n",
    "\n",
    "#input boxes\n",
    "login_username=StringVar()\n",
    "login_password=StringVar()\n",
    "Entry(canvas1,font=\"Arial 18 \",textvariable=login_username,bg='light grey').place(x=960,y=238,height=30, width=250)\n",
    "Entry(canvas1,show='*',font=\"Arial 30 \",textvariable=login_password,bg='light grey').place(x=960,y=278,height=30, width=250)\n",
    "\n",
    "#Login button\n",
    "Button(window, text='Login',font=\"Arial 15 bold\", width=6, command=signin).place(x=885,y=320,height=30, width=250)\n"
   ]
  },
  {
   "cell_type": "markdown",
   "id": "d6262b23-f6a6-4ea8-8989-9a88ca7fb8f8",
   "metadata": {},
   "source": [
    "## SEARCH profiles"
   ]
  },
  {
   "cell_type": "code",
   "execution_count": 19,
   "id": "ac03d5eb-3f78-4d67-9506-0df3950558d4",
   "metadata": {},
   "outputs": [],
   "source": [
    "\n",
    "#text\n",
    "canvas1.create_text(900,500,text = '\\tSearch profiles',fill='light green',font=\"Arial 35 bold\")\n",
    "canvas1.create_text(855,550,text = 'Name:',fill='white',font=\"Arial 22\")\n",
    "\n",
    "#input boxes\n",
    "search_name=StringVar()\n",
    "Entry(canvas1,font=\"Arial 18 \",textvariable=search_name,bg='light grey').place(x=905,y=538,height=30, width=310)\n",
    "\n",
    "#Search button\n",
    "Button(window, text='Search',font=\"Arial 15 bold\", width=6,command=search).place(x=885,y=580,height=30, width=250)\n"
   ]
  },
  {
   "cell_type": "markdown",
   "id": "8718baad-7717-4a78-b751-2529fa213d57",
   "metadata": {},
   "source": [
    "## Create NEW profile"
   ]
  },
  {
   "cell_type": "markdown",
   "id": "e91ba599-d2e2-49a0-880e-0ba2466ea6d5",
   "metadata": {},
   "source": [
    "#### TEXT"
   ]
  },
  {
   "cell_type": "code",
   "execution_count": 20,
   "id": "dd789e9d-605e-41c1-be1e-781ca71b58ad",
   "metadata": {},
   "outputs": [
    {
     "data": {
      "text/plain": [
       "11"
      ]
     },
     "execution_count": 20,
     "metadata": {},
     "output_type": "execute_result"
    }
   ],
   "source": [
    "\n",
    "canvas1.create_text(310,180,text = 'New Here? Create a profile!',fill='cyan',font=\"Arial 30 bold\")\n",
    "canvas1.create_text(260,484,text = '''Choose username:\n",
    "Full Name:\n",
    "Choose Password:\n",
    "Reenter Password:\n",
    "Enter phone number:\n",
    "Enter email id:\n",
    "\n",
    "Choose Image\n",
    "\n",
    "\n",
    "\n",
    "Enter something about yourself:\n",
    "''',\n",
    "fill='white',font=\"Arial 22\")\n"
   ]
  },
  {
   "cell_type": "markdown",
   "id": "7b1f40e9-4953-4e55-884c-69727bace8be",
   "metadata": {},
   "source": [
    "### INPUT BOX"
   ]
  },
  {
   "cell_type": "code",
   "execution_count": 21,
   "id": "d90ee4b6-e8c1-4c91-9237-39c9a8c77775",
   "metadata": {},
   "outputs": [],
   "source": [
    "\n",
    "regis_username=StringVar()\n",
    "regis_password=StringVar()\n",
    "regis_password1=StringVar()\n",
    "regis_fullname=StringVar()\n",
    "regis_phone=StringVar()\n",
    "regis_email=StringVar()\n",
    "\n",
    "#username\n",
    "Entry(canvas1,font=\"Arial 18 \",textvariable=regis_username,bg='light grey').place(x=305,y=276,height=25, width=250)\n",
    "#fullname\n",
    "Entry(canvas1,font=\"Arial 18 \",textvariable=regis_fullname,bg='light grey').place(x=203,y=309,height=25, width=352)\n",
    "#passwords\n",
    "Entry(canvas1,show='*',font=\"Arial 25 bold\",textvariable=regis_password,bg='light grey').place(x=305,y=342,height=25, width=250)\n",
    "Entry(canvas1,show='*',font=\"Arial 25 bold\",textvariable=regis_password1,bg='light grey').place(x=305,y=375,height=25, width=250)\n",
    "\n",
    "#phone number\n",
    "Entry(canvas1,font=\"Arial 18 \",textvariable=regis_phone,bg='light grey').place(x=330,y=408,height=25, width=225)\n",
    "#email\n",
    "Entry(canvas1,font=\"Arial 18 \",textvariable=regis_email,bg='light grey').place(x=247,y=441,height=25, width=308)\n",
    "\n",
    "#description\n",
    "regis_desc= Text(canvas1, height = 3, width =38, font=\"Arial 18 italic\",bg='light grey')\n",
    "regis_desc.place(x=56,y=680)#,height=27, width=350)\n"
   ]
  },
  {
   "cell_type": "markdown",
   "id": "83031b4a-1e69-4be8-b6ec-48fa0362b9b5",
   "metadata": {},
   "source": [
    "### buttons and rectangle"
   ]
  },
  {
   "cell_type": "code",
   "execution_count": 22,
   "id": "84bf9b18-b9fc-43e7-8204-451d6f4649bb",
   "metadata": {},
   "outputs": [],
   "source": [
    "\n",
    "#create grey rectangle\n",
    "canvas1.create_rectangle(280,480,400,620,fill='grey')\n",
    "#add photo button\n",
    "Button(window, text='+',font=\"Arial 30 bold\", width=6, command=add_photo).place(x=150,y=545,height=60, width=90)\n",
    "#create account button\n",
    "Button(window, text='Create Account',font=\"Arial 15 bold\", width=6, command=initialise).place(x=170,y=780,height=30, width=250)\n"
   ]
  },
  {
   "cell_type": "code",
   "execution_count": 23,
   "id": "2a56b188-5ac6-4742-bfe0-1a4be76da938",
   "metadata": {},
   "outputs": [],
   "source": [
    "window.mainloop()"
   ]
  }
 ],
 "metadata": {
  "kernelspec": {
   "display_name": "Python 3 (ipykernel)",
   "language": "python",
   "name": "python3"
  },
  "language_info": {
   "codemirror_mode": {
    "name": "ipython",
    "version": 3
   },
   "file_extension": ".py",
   "mimetype": "text/x-python",
   "name": "python",
   "nbconvert_exporter": "python",
   "pygments_lexer": "ipython3",
   "version": "3.10.0"
  }
 },
 "nbformat": 4,
 "nbformat_minor": 5
}
